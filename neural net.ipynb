{
 "cells": [
  {
   "cell_type": "code",
   "execution_count": 2,
   "metadata": {},
   "outputs": [],
   "source": [
    "import tensorflow as tf\n",
    "from tensorflow.examples.tutorials.mnist import input_data"
   ]
  },
  {
   "cell_type": "code",
   "execution_count": 3,
   "metadata": {},
   "outputs": [
    {
     "name": "stdout",
     "output_type": "stream",
     "text": [
      "Successfully downloaded train-images-idx3-ubyte.gz 9912422 bytes.\n",
      "Extracting /tmp/data/train-images-idx3-ubyte.gz\n",
      "Successfully downloaded train-labels-idx1-ubyte.gz 28881 bytes.\n",
      "Extracting /tmp/data/train-labels-idx1-ubyte.gz\n",
      "Successfully downloaded t10k-images-idx3-ubyte.gz 1648877 bytes.\n",
      "Extracting /tmp/data/t10k-images-idx3-ubyte.gz\n",
      "Successfully downloaded t10k-labels-idx1-ubyte.gz 4542 bytes.\n",
      "Extracting /tmp/data/t10k-labels-idx1-ubyte.gz\n"
     ]
    }
   ],
   "source": [
    "mnist = input_data.read_data_sets(\"/tmp/data/\", one_hot=True)"
   ]
  },
  {
   "cell_type": "code",
   "execution_count": 4,
   "metadata": {},
   "outputs": [],
   "source": [
    "n_nodes_hl1 = 500\n",
    "n_nodes_hl2 = 500\n",
    "n_nodes_hl3 = 500\n",
    "\n",
    "n_classes = 10\n",
    "batch_size = 100"
   ]
  },
  {
   "cell_type": "code",
   "execution_count": 5,
   "metadata": {},
   "outputs": [],
   "source": [
    "x = tf.placeholder('float',[None,784])\n",
    "y = tf.placeholder('float')"
   ]
  },
  {
   "cell_type": "code",
   "execution_count": 6,
   "metadata": {},
   "outputs": [],
   "source": [
    "def neural_net_model(data):\n",
    "\thidden_1_layer = {'weights':tf.Variable(tf.random_normal([784,n_nodes_hl1])),'biases':tf.Variable(tf.random_normal([n_nodes_hl1]))}\n",
    "\thidden_2_layer = {'weights':tf.Variable(tf.random_normal([n_nodes_hl1,n_nodes_hl2])),\n",
    "\t\t'biases':tf.Variable(tf.random_normal([n_nodes_hl2]))}\n",
    "\thidden_3_layer = {'weights':tf.Variable(tf.random_normal([n_nodes_hl2,n_nodes_hl3])),\n",
    "\t\t'biases':tf.Variable(tf.random_normal([n_nodes_hl3]))}\n",
    "\toutput_layer = {'weights':tf.Variable(tf.random_normal([n_nodes_hl3,n_classes])),\n",
    "\t\t'biases':tf.Variable(tf.random_normal([n_classes]))}\n",
    "\n",
    "\tl1 = tf.add(tf.matmul(data, hidden_1_layer['weights']),hidden_1_layer['biases'])\n",
    "\tl1 = tf.nn.relu(l1)\n",
    "\n",
    "\tl2 = tf.add(tf.matmul(l1, hidden_2_layer['weights']),hidden_2_layer['biases'])\n",
    "\tl2 = tf.nn.relu(l2)\n",
    "\t\n",
    "\tl3 = tf.add(tf.matmul(l2, hidden_3_layer['weights']),hidden_3_layer['biases'])\n",
    "\tl3 = tf.nn.relu(l3)\n",
    "\n",
    "\toutput = tf.matmul(l3, output_layer['weights']) + output_layer['biases']\n",
    "\n",
    "\treturn output"
   ]
  },
  {
   "cell_type": "code",
   "execution_count": 9,
   "metadata": {},
   "outputs": [],
   "source": [
    "def train_neural_network(x):\n",
    "\tprediction = neural_net_model(x)\n",
    "\tcost = tf.reduce_mean( tf.nn.softmax_cross_entropy_with_logits(logits=prediction, labels=y) )\n",
    "\n",
    "\toptimizer = tf.train.AdamOptimizer().minimize(cost)\n",
    "\n",
    "\thm_epochs = 10\n",
    "\n",
    "\twith tf.Session() as sess:\n",
    "\t\tsess.run(tf.global_variables_initializer())\n",
    "\n",
    "\t\tfor epoch in range(hm_epochs):\n",
    "\t\t\tepoch_loss = 0\n",
    "\t\t\tfor _ in range(int(mnist.train.num_examples/batch_size)):\n",
    "\t\t\t\tepoch_x,epoch_y  = mnist.train.next_batch(batch_size)\n",
    "\t\t\t\t_,epoch_c = sess.run([optimizer, cost], feed_dict = {x: epoch_x, y: epoch_y})\n",
    "\t\t\t\tepoch_loss += epoch_c\n",
    "\t\t\tprint('Epoch', epoch, 'completed out of ', hm_epochs, 'loss: ', epoch_loss)\n",
    "\t\tcorrect = tf.equal(tf.argmax(prediction, 1), tf.argmax(y,1))\n",
    "\t\taccuracy = tf.reduce_mean(tf.cast(correct, 'float'))\n",
    "\t\tprint('Accuracy:', accuracy.eval({x:mnist.test.images, y: mnist.test.labels}))"
   ]
  },
  {
   "cell_type": "code",
   "execution_count": 10,
   "metadata": {},
   "outputs": [
    {
     "name": "stdout",
     "output_type": "stream",
     "text": [
      "Epoch 0 completed out of  10 loss:  2290556.3523254395\n",
      "Epoch 1 completed out of  10 loss:  477489.37812805176\n",
      "Epoch 2 completed out of  10 loss:  260811.10702061653\n",
      "Epoch 3 completed out of  10 loss:  154576.31609879434\n",
      "Epoch 4 completed out of  10 loss:  96984.4899290055\n",
      "Epoch 5 completed out of  10 loss:  61319.22889703512\n",
      "Epoch 6 completed out of  10 loss:  40483.7354705481\n",
      "Epoch 7 completed out of  10 loss:  31854.998808749915\n",
      "Epoch 8 completed out of  10 loss:  25410.272265236006\n",
      "Epoch 9 completed out of  10 loss:  19386.330049342367\n",
      "Accuracy: 0.9524\n"
     ]
    }
   ],
   "source": [
    "train_neural_network(x)"
   ]
  },
  {
   "cell_type": "code",
   "execution_count": null,
   "metadata": {},
   "outputs": [],
   "source": []
  }
 ],
 "metadata": {
  "kernelspec": {
   "display_name": "Python 3",
   "language": "python",
   "name": "python3"
  },
  "language_info": {
   "codemirror_mode": {
    "name": "ipython",
    "version": 3
   },
   "file_extension": ".py",
   "mimetype": "text/x-python",
   "name": "python",
   "nbconvert_exporter": "python",
   "pygments_lexer": "ipython3",
   "version": "3.6.1"
  }
 },
 "nbformat": 4,
 "nbformat_minor": 2
}
